{
  "nbformat": 4,
  "nbformat_minor": 0,
  "metadata": {
    "colab": {
      "provenance": [],
      "authorship_tag": "ABX9TyNGEeoEuWWO/OG553As6q9B",
      "include_colab_link": true
    },
    "kernelspec": {
      "name": "python3",
      "display_name": "Python 3"
    },
    "language_info": {
      "name": "python"
    }
  },
  "cells": [
    {
      "cell_type": "markdown",
      "metadata": {
        "id": "view-in-github",
        "colab_type": "text"
      },
      "source": [
        "<a href=\"https://colab.research.google.com/github/aamankhan123/Machine-learning-/blob/main/Outliers.ipynb\" target=\"_parent\"><img src=\"https://colab.research.google.com/assets/colab-badge.svg\" alt=\"Open In Colab\"/></a>"
      ]
    },
    {
      "cell_type": "code",
      "source": [
        "dataset= [11,10,12,13,15,53,33,101,1,4,3,12,42,4,6,7,8,56,23]\n"
      ],
      "metadata": {
        "id": "GiS6jZFsIvM0"
      },
      "execution_count": null,
      "outputs": []
    },
    {
      "cell_type": "code",
      "source": [
        "outlier= []\n",
        "def detect_outlier(data):\n",
        "    th=3;\n",
        "    mean=np.mean(data)\n",
        "    std=np.std(data)\n",
        "    for i in data:\n",
        "      z=(i-mean)/std\n",
        "      if(np.abs(z)>th):\n",
        "        outlier.append(i)\n",
        "\n",
        "    return outlier"
      ],
      "metadata": {
        "id": "5Y58OR8DJKof"
      },
      "execution_count": null,
      "outputs": []
    },
    {
      "cell_type": "code",
      "source": [],
      "metadata": {
        "id": "rHTmUzLuLDwC"
      },
      "execution_count": null,
      "outputs": []
    },
    {
      "cell_type": "code",
      "source": [
        "detect_outlier(dataset)"
      ],
      "metadata": {
        "colab": {
          "base_uri": "https://localhost:8080/"
        },
        "id": "tZl-RC9TKQp7",
        "outputId": "88a54e1f-d200-4a52-9dc3-ab5c726007f9"
      },
      "execution_count": null,
      "outputs": [
        {
          "output_type": "execute_result",
          "data": {
            "text/plain": [
              "[]"
            ]
          },
          "metadata": {},
          "execution_count": 18
        }
      ]
    },
    {
      "cell_type": "code",
      "source": [
        "sns.boxplot(dataset)\n",
        "plt.show()"
      ],
      "metadata": {
        "colab": {
          "base_uri": "https://localhost:8080/",
          "height": 411
        },
        "id": "ho-b5mo3KhId",
        "outputId": "4ee5424b-b407-4ac8-f203-ecc1f13b4176"
      },
      "execution_count": null,
      "outputs": [
        {
          "output_type": "display_data",
          "data": {
            "text/plain": [
              "<Figure size 640x480 with 1 Axes>"
            ],
            "image/png": "[encoded data removed]"
          },
          "metadata": {}
        }
      ]
    },
    {
      "cell_type": "code",
      "source": [
        "dataset=sorted(dataset)\n",
        "dataset"
      ],
      "metadata": {
        "colab": {
          "base_uri": "https://localhost:8080/"
        },
        "id": "Z4CV3IlpLx7-",
        "outputId": "9cc09942-4686-4e52-8a2b-2df9d517eabd"
      },
      "execution_count": null,
      "outputs": [
        {
          "output_type": "execute_result",
          "data": {
            "text/plain": [
              "[1, 3, 4, 4, 6, 7, 8, 10, 11, 12, 12, 13, 15, 33, 42, 53, 56, 423]"
            ]
          },
          "metadata": {},
          "execution_count": 14
        }
      ]
    },
    {
      "cell_type": "code",
      "source": [
        "q1,q3=np.percentile(dataset,[25,75])\n",
        "print(q1,q3)"
      ],
      "metadata": {
        "colab": {
          "base_uri": "https://localhost:8080/"
        },
        "id": "KvJiO90qMzxm",
        "outputId": "e95bcb54-b7ea-45f0-c551-d1704cce186e"
      },
      "execution_count": null,
      "outputs": [
        {
          "output_type": "stream",
          "name": "stdout",
          "text": [
            "6.25 28.5\n"
          ]
        }
      ]
    },
    {
      "cell_type": "code",
      "execution_count": null,
      "metadata": {
        "id": "ljGEpmT0Ihze"
      },
      "outputs": [],
      "source": [
        "import numpy as np\n",
        "import pandas as pd\n",
        "import matplotlib.pyplot as plt\n",
        "import seaborn as sns"
      ]
    },
    {
      "cell_type": "code",
      "source": [
        "iqr=q3-q1\n",
        "iqr"
      ],
      "metadata": {
        "colab": {
          "base_uri": "https://localhost:8080/"
        },
        "id": "vFRHfQ2yNUpB",
        "outputId": "b7adcbe4-f689-4aa0-c6d4-3f9a5186676a"
      },
      "execution_count": null,
      "outputs": [
        {
          "output_type": "execute_result",
          "data": {
            "text/plain": [
              "22.25"
            ]
          },
          "metadata": {},
          "execution_count": 16
        }
      ]
    },
    {
      "cell_type": "code",
      "source": [
        "uf=q3+1.5*iqr\n",
        "lf=q1-1.5*iqr\n",
        "print(uf,lf)"
      ],
      "metadata": {
        "colab": {
          "base_uri": "https://localhost:8080/"
        },
        "id": "9nVEF6-tOatA",
        "outputId": "ecc695e2-6683-422d-e923-b5e47538424d"
      },
      "execution_count": null,
      "outputs": [
        {
          "output_type": "stream",
          "name": "stdout",
          "text": [
            "61.875 -27.125\n"
          ]
        }
      ]
    },
    {
      "cell_type": "code",
      "source": [
        "for i in dataset:\n",
        "  if(i>uf or i<lf):\n",
        "    print(i)\n",
        "    dataset.remove(i)\n",
        "dataset"
      ],
      "metadata": {
        "colab": {
          "base_uri": "https://localhost:8080/"
        },
        "id": "fHiP-w_4Op55",
        "outputId": "545165d7-c63e-457b-f59a-fc2151c5e98a"
      },
      "execution_count": null,
      "outputs": [
        {
          "output_type": "stream",
          "name": "stdout",
          "text": [
            "423\n"
          ]
        },
        {
          "output_type": "execute_result",
          "data": {
            "text/plain": [
              "[1, 3, 4, 4, 6, 7, 8, 10, 11, 12, 12, 13, 15, 33, 42, 53, 56]"
            ]
          },
          "metadata": {},
          "execution_count": 19
        }
      ]
    },
    {
      "cell_type": "code",
      "source": [],
      "metadata": {
        "id": "HeYcB0HCPlck"
      },
      "execution_count": null,
      "outputs": []
    },
    {
      "cell_type": "code",
      "source": [
        "outlier= []\n",
        "def detect_outlier(data):\n",
        "    th=4;\n",
        "    mean=np.mean(data)\n",
        "    std=np.std(data)\n",
        "    for i in data:\n",
        "      z=(i-mean)/std\n",
        "      if(np.abs(z)>th):\n",
        "        outlier.append(i)\n",
        "\n",
        "    return outlier"
      ],
      "metadata": {
        "id": "Zw5OOTSZP-s5"
      },
      "execution_count": null,
      "outputs": []
    },
    {
      "cell_type": "code",
      "source": [
        "from statsmodels.stats.weightstats import ztest as ztest"
      ],
      "metadata": {
        "id": "oAIB0-xzMpIK"
      },
      "execution_count": null,
      "outputs": []
    },
    {
      "cell_type": "code",
      "source": [
        "data=[10,20,30,40,50,48,9,9,32,432,89,32,234342]"
      ],
      "metadata": {
        "id": "qjK79fnXQGnX"
      },
      "execution_count": null,
      "outputs": []
    },
    {
      "cell_type": "code",
      "source": [
        "ztest(data,value=1000)"
      ],
      "metadata": {
        "colab": {
          "base_uri": "https://localhost:8080/"
        },
        "id": "mrvgGUWFNCvg",
        "outputId": "f25d2c33-9155-49c0-c87b-62b82dc8fbf6"
      },
      "execution_count": null,
      "outputs": [
        {
          "output_type": "execute_result",
          "data": {
            "text/plain": [
              "(0.9482122791549463, 0.3430213972726368)"
            ]
          },
          "metadata": {},
          "execution_count": 8
        }
      ]
    },
    {
      "cell_type": "code",
      "source": [],
      "metadata": {
        "id": "fQhUArOlNPUu"
      },
      "execution_count": null,
      "outputs": []
    }
  ]
}